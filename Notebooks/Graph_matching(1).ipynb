{
 "cells": [
  {
   "cell_type": "code",
   "execution_count": 1,
   "metadata": {},
   "outputs": [],
   "source": [
    "import numpy as np\n",
    "from numpy import linalg as LA\n",
    "from scipy.optimize import linear_sum_assignment\n",
    "from scipy.sparse import csr_matrix\n",
    "import matplotlib.pyplot as plt\n",
    "import networkx as nx"
   ]
  },
  {
   "cell_type": "code",
   "execution_count": 1,
   "metadata": {},
   "outputs": [],
   "source": [
    "from graph_matching_p import GM_methods"
   ]
  },
  {
   "cell_type": "code",
   "execution_count": 2,
   "metadata": {},
   "outputs": [
    {
     "data": {
      "text/latex": [
       "Linear assignment solves:\n",
       "$$ \\min_{\\Pi\\in\\mathcal{P}}\\sum_{ij}C_{ij}\\Pi_{ij}=\\max_{\\Pi}Tr(C\\Pi^T)$$\n",
       "where $C$ is a cost matrix, or \n",
       "$$\\max_{\\Pi\\in\\mathcal{P}}\\sum_{ij}S_{ij}\\Pi_{ij}=\\max_{\\Pi} Tr(S\\Pi^T)$$\n",
       "where $S$ is a similarity matrix and $\\mathcal{P}$ is the set of permutation matrices.\n"
      ],
      "text/plain": [
       "<IPython.core.display.Latex object>"
      ]
     },
     "metadata": {},
     "output_type": "display_data"
    }
   ],
   "source": [
    "%%latex \n",
    "Linear assignment solves:\n",
    "$$ \\min_{\\Pi\\in\\mathcal{P}}\\sum_{ij}C_{ij}\\Pi_{ij}=\\max_{\\Pi}Tr(C\\Pi^T)$$\n",
    "where $C$ is a cost matrix, or \n",
    "$$\\max_{\\Pi\\in\\mathcal{P}}\\sum_{ij}S_{ij}\\Pi_{ij}=\\max_{\\Pi} Tr(S\\Pi^T)$$\n",
    "where $S$ is a similarity matrix and $\\mathcal{P}$ is the set of permutation matrices."
   ]
  },
  {
   "cell_type": "code",
   "execution_count": 2,
   "metadata": {},
   "outputs": [],
   "source": [
    "#Max Linear Assigment, using a similarity matrix. Returns a permutation matrix\n",
    "def lin_assign(X):\n",
    "    row_assign,col_assign = linear_sum_assignment(-X)\n",
    "    w = np.empty(len(row_assign), dtype=int)\n",
    "    w[:] = 1\n",
    "    conn_matrix = csr_matrix((w, (row_assign, col_assign)), shape=(len(row_assign), len(col_assign)), dtype=int)\n",
    "    return conn_matrix"
   ]
  },
  {
   "cell_type": "code",
   "execution_count": 3,
   "metadata": {},
   "outputs": [
    {
     "data": {
      "text/latex": [
       "Grampa algorithm:\n",
       "\n",
       "Similarity matrix \n",
       "$$\\hat{X}=\\sum_{ij}w(i,j)u_iu^T_i \\mathbb{1} v_jv^T_j$$\n",
       "with weights $$w(i,j)=\\frac{1}{(\\lambda_i-\\mu_j)^2+\\eta^2}$$\n",
       "\n",
       "Then solves linear assignment with similarity $S=\\hat{X}$\n"
      ],
      "text/plain": [
       "<IPython.core.display.Latex object>"
      ]
     },
     "metadata": {},
     "output_type": "display_data"
    }
   ],
   "source": [
    "%%latex\n",
    "Grampa algorithm:\n",
    "\n",
    "Similarity matrix \n",
    "$$\\hat{X}=\\sum_{ij}w(i,j)u_iu^T_i \\mathbb{1} v_jv^T_j$$\n",
    "with weights $$w(i,j)=\\frac{1}{(\\lambda_i-\\mu_j)^2+\\eta^2}$$\n",
    "\n",
    "Then solves linear assignment with similarity $S=\\hat{X}$"
   ]
  },
  {
   "cell_type": "code",
   "execution_count": 4,
   "metadata": {},
   "outputs": [],
   "source": [
    "#Grampa algorithm, from \"Spectral Graph Matching and Regularized Quadratic Relaxations I\" by Z.Fan, C.Mao, J.Xu, Y.Wu\n",
    "def Grampa(A,B,eta):\n",
    "    n = len(A[0,:])\n",
    "    Lambda, U = LA.eig(A); Lambda=np.real(Lambda);U=np.real(U)\n",
    "    Mu,V = LA.eig(B);Mu=np.real(Mu);V=np.real(V)\n",
    "    coeff = 1 / (np.subtract.outer(Lambda,Mu)**2 + eta**2)\n",
    "    #print(coeff.shape)\n",
    "    coeff = coeff* np.matmul(np.matmul(U.T, np.ones((n,n))), V)\n",
    "    X= np.matmul(np.matmul(U , coeff), V.T)\n",
    "    \n",
    "    # Rounding by linear assignment \n",
    "    Per_mat=lin_assign(X)\n",
    "    return Per_mat\n"
   ]
  },
  {
   "cell_type": "code",
   "execution_count": 5,
   "metadata": {},
   "outputs": [
    {
     "data": {
      "text/latex": [
       "Umeyama algorithm: Similarity matrix\n",
       "$$\\hat{X}=\\sum_{i}|u_i||v_i|^T$$\n",
       "Then solves linear assignment with similarity $S=\\hat{X}$\n"
      ],
      "text/plain": [
       "<IPython.core.display.Latex object>"
      ]
     },
     "metadata": {},
     "output_type": "display_data"
    }
   ],
   "source": [
    "%%latex\n",
    "Umeyama algorithm: Similarity matrix\n",
    "$$\\hat{X}=\\sum_{i}|u_i||v_i|^T$$\n",
    "Then solves linear assignment with similarity $S=\\hat{X}$"
   ]
  },
  {
   "cell_type": "code",
   "execution_count": 6,
   "metadata": {},
   "outputs": [],
   "source": [
    "#Umeyama's algorithm \n",
    "def Umeyama(A,B):\n",
    "    n=len(A[0,:])\n",
    "    Lambda, U = LA.eig(A)\n",
    "    Mu,V = LA.eig(B)\n",
    "    idx = Lambda.argsort()[::-1]   \n",
    "    Lamba_sorted = Lambda[idx]\n",
    "    U_sorted = U[:,idx]\n",
    "    idx = Mu.argsort()[::-1]   \n",
    "    Mu_sorted = Mu[idx]\n",
    "    V_sorted = V[:,idx]\n",
    "    X=np.matmul(np.abs(U_sorted),np.transpose(np.abs(V_sorted)))\n",
    "    \n",
    "    # Rounding by linear assignment \n",
    "    Per_mat=lin_assign(X)\n",
    "    return Per_mat\n",
    "    \n",
    "    "
   ]
  },
  {
   "cell_type": "code",
   "execution_count": 7,
   "metadata": {},
   "outputs": [
    {
     "data": {
      "text/latex": [
       "EigenAlign algorithm: similarity in the vectorized form $[\\hat{X}]$ is the eigenvector associated to the largest eigenvalue of $B\\otimes A$, that is:\n",
       "        $$[\\hat{X}]=\\operatorname{arg}\\max_{\\|y\\|\\leq 1}y B\\otimes A y^T$$\n",
       "LowRank algorithm: similarity matrix is:\n",
       "        $$\\hat{X}_s=\\sum^k_{i=1}(s_i\\lambda_i\\mu_i)u_iv^T_i$$ for some $s_i\\in\\{-1,1\\}$. \n",
       "        Then solves Linear Assigment with similarity $S=\\hat{X}$.\n",
       "        Alternatively we can solve directly:$$\\max_{s_i\\in\\{-1,1\\},\\Pi\\in\\mathcal{P}}Tr(\\hat{X}_s\\Pi^T)$$\n"
      ],
      "text/plain": [
       "<IPython.core.display.Latex object>"
      ]
     },
     "metadata": {},
     "output_type": "display_data"
    }
   ],
   "source": [
    "%%latex\n",
    "EigenAlign algorithm: similarity in the vectorized form $[\\hat{X}]$ is the eigenvector associated to the largest eigenvalue of $B\\otimes A$, that is:\n",
    "        $$[\\hat{X}]=\\operatorname{arg}\\max_{\\|y\\|\\leq 1}y B\\otimes A y^T$$\n",
    "LowRank algorithm: similarity matrix is:\n",
    "        $$\\hat{X}_s=\\sum^k_{i=1}(s_i\\lambda_i\\mu_i)u_iv^T_i$$ for some $s_i\\in\\{-1,1\\}$. \n",
    "        Then solves Linear Assigment with similarity $S=\\hat{X}$.\n",
    "        Alternatively we can solve directly:$$\\max_{s_i\\in\\{-1,1\\},\\Pi\\in\\mathcal{P}}Tr(\\hat{X}_s\\Pi^T)$$"
   ]
  },
  {
   "cell_type": "code",
   "execution_count": 9,
   "metadata": {},
   "outputs": [],
   "source": [
    "#EigenAlign algorithm, from \"Spectral Alignment of Graphs\" by S.Feizi, G.Quon, M.Recamonde-Mendoza, M.Médard, M.Kellis, A.Jadbabaie\n",
    "def EigenAlign(A,B):\n",
    "    n=len(A[0,:])\n",
    "    K=np.kron(B,A)\n",
    "    Lambda, U=LA.eig(K)\n",
    "    U_max=np.real(U[:,np.argmax(Lambda)])\n",
    "    #X=np.reshape(U_max,(n,n)).T\n",
    "    X=np.reshape(U_max,(n,n)).T\n",
    "    #print(X)\n",
    "    \n",
    "    # Rounding by linear assignment\n",
    "    Per_mat=lin_assign(np.abs(X))\n",
    "    #Per_mat=lin_assign(X)\n",
    "    return Per_mat\n",
    "\n",
    "#LowRank algorithm, same reference.\n",
    "\n",
    "def LowRank(A,B,k):\n",
    "    n=len(A[0,:])\n",
    "    Lambda, U = LA.eig(A)\n",
    "    Mu,V = LA.eig(B)\n",
    "    idx = Lambda.argsort()[::-1]   \n",
    "    Lamba_sorted = Lambda[idx]\n",
    "    U_sorted = U[:,idx]\n",
    "    idx = Mu.argsort()[::-1]   \n",
    "    Mu_sorted = Mu[idx]\n",
    "    V_sorted = V[:,idx]\n",
    "    X=np.matmul(np.abs(U_sorted[:,0:k]),np.transpose(np.abs(V_sorted[:,0:k])))\n",
    "    ###Alternatively, define an array of signs 's' of lenght k\n",
    "    #X=np.matmul(np.matmul(U_sorted[0,0:k],s),np.transpose(V_sorted[:,0:k]))\n",
    "    \n",
    "    # Rounding by linear assignment \n",
    "    Per_mat=lin_assign(X)\n",
    "    return Per_mat\n",
    "    "
   ]
  },
  {
   "cell_type": "code",
   "execution_count": null,
   "metadata": {},
   "outputs": [],
   "source": [
    "#TopEigenvec\n"
   ]
  },
  {
   "cell_type": "code",
   "execution_count": 10,
   "metadata": {},
   "outputs": [],
   "source": [
    "#Isorank algorithm, taken from  \"Global alignment of multiple protein interaction networks with application to functional orthology detection\" by R. Singh, J. Xu, B. Berger. \n",
    "#this version is based on the implementation by S. Zhang in https://github.com/sizhang92/FINAL-network-alignment-KDD16/blob/master/IsoRank.m  \n",
    "\n",
    "#Here the matrix H is a prior similarity between nodes of both graphs\n",
    "#the algorihtm is essentially PPR on the product graph\n",
    "def IsoRank(A,B,H,alpha,maxiter,tol):\n",
    "    n = len(A[0,:])\n",
    "    A_nor=A/A.sum(axis=1)[:,None]\n",
    "    B_nor=B/B.sum(axis=1)[:,None]\n",
    "    A_nor[np.isnan(A_nor)]=0\n",
    "    B_nor[np.isnan(B_nor)]=0\n",
    "    X=(1/n**2)*np.ones((n,n))\n",
    "    \n",
    "    for iter in range(maxiter):\n",
    "        previous=X\n",
    "        X = alpha *np.matmul(np.matmul( B_nor.T, X), A_nor) + (1-alpha) * H\n",
    "        delta = LA.norm(X- previous)\n",
    "        \n",
    "        if delta < tol: \n",
    "            break\n",
    "    \n",
    "    # Rounding by linear assignment \n",
    "    Per_mat=lin_assign(X)\n",
    "    return Per_mat\n",
    "    \n"
   ]
  },
  {
   "cell_type": "code",
   "execution_count": 3,
   "metadata": {},
   "outputs": [],
   "source": [
    "#Some random graphs and random matrices models \n",
    "from scipy.spatial import distance\n",
    "def ER(n,prob):\n",
    "    Ber=np.random.binomial(n=1,p=prob,size=(n,n))\n",
    "    UT=np.triu(Ber)\n",
    "    return UT+UT.T-2*np.diag(np.diag(Ber))\n",
    "\n",
    "def GaussianWigner(n,var):\n",
    "    Gau=np.random.normal(loc=0,scale=np.sqrt(var),size=(n,n))\n",
    "    UT=np.triu(Gau)\n",
    "    return UT+UT.T\n",
    "\n",
    "def Corr_Gaussian(n,var, sigma):\n",
    "    #generate a ground true permutation\n",
    "    true_perm=np.random.permutation(np.arange(n)) \n",
    "    P_rnd=perm_mat(true_perm)\n",
    "    A=GaussianWigner(n,var)\n",
    "    C=GaussianWigner(n,var)\n",
    "    B=np.sqrt(1-sigma**2)*A+sigma*C\n",
    "    #shuffle rows and columns of matrix B\n",
    "    aux=B[:,true_perm]\n",
    "    B=aux[true_perm,:]\n",
    "    return A,B,P_rnd\n",
    "   \n",
    "\n",
    "\n",
    "def Corr_ER(n,prob,s):\n",
    "    q=prob*(1-s)/(1-prob)\n",
    "    A=ER(n,prob)\n",
    "    B1=np.random.binomial(n=1,p=s,size=(n,n))\n",
    "    B1[A==0]=0\n",
    "    B2=np.random.binomial(n=1,p=q,size=(n,n))\n",
    "    B2[A==1]=0\n",
    "    B=B1+B2\n",
    "    B=B-np.diag(np.diag(B))\n",
    "    return A,B\n",
    "\n",
    "def RGG(n,d,tau):#generate random geometric graphs\n",
    "    rnd_points_sphere=sample_spherical(n,d)\n",
    "    gram=rnd_points_sphere@rnd_points_sphere.T\n",
    "    adjacency=np.copy(gram)\n",
    "    adjacency[adjacency<=tau]=0\n",
    "    return gram,adjacency\n",
    "\n",
    "def sample_spherical(npoints, ndim=3):\n",
    "    vec = np.random.randn(ndim, npoints)\n",
    "    vec /= np.linalg.norm(vec, axis=0)\n",
    "    return vec\n",
    "\n",
    "def Corr_RGG(n,d,tau,sigma):\n",
    "    #generate a ground true permutation\n",
    "    true_perm=np.random.permutation(np.arange(n)) \n",
    "    P_rnd=perm_mat(true_perm)\n",
    "    rnd_points_gaussian_A=np.random.normal(loc=0,scale=1/np.sqrt(d),size=(n,d))# corresponds to the first cloud of points cloud_A\n",
    "    rnd_points_gaussian_B=np.random.normal(loc=0,scale=1/np.sqrt(d),size=(n,d))\n",
    "    cloud_B=np.sqrt(1-sigma**2)*rnd_points_gaussian_A[true_perm]+sigma*rnd_points_gaussian_B\n",
    "    DistA=distance.cdist(rnd_points_gaussian_A, rnd_points_gaussian_A, 'euclidean')\n",
    "    DistB=distance.cdist(cloud_B, cloud_B, 'euclidean')\n",
    "    GraphA=np.copy(DistA)\n",
    "    GraphA[GraphA<=tau]=1\n",
    "    GraphA[GraphA>tau]=0\n",
    "    GraphA=GraphA-np.diag(np.diag(GraphA))\n",
    "    GraphB=np.copy(DistB)\n",
    "    GraphB[GraphB<=tau]=1\n",
    "    GraphB[GraphB>tau]=0\n",
    "    GraphB=GraphB-np.diag(np.diag(GraphB))\n",
    "    return DistA, DistB, GraphA, GraphB,P_rnd\n",
    "\n",
    "#def RGG(n,d,tau):\n",
    "#put different models...    \n"
   ]
  },
  {
   "cell_type": "code",
   "execution_count": 7,
   "metadata": {},
   "outputs": [],
   "source": [
    "#some useful functions, anything beyond the models and main algorithms \n",
    "\n",
    "#Objective fnct for the QAP formulation of GM\n",
    "def GM_objective_fnct(A,B,perm):\n",
    "    return np.trace(np.matmul(np.matmul(np.matmul(A,perm),B),perm.T))\n",
    "\n",
    "#Objective fnct convex formulation of GM\n",
    "def GM_objective_fnct_conv(A,B,perm):\n",
    "    return LA.norm(A@perm-perm@B,'fro')\n",
    "\n",
    "#Square part of the convex obj. fnct. of GM\n",
    "def GM_objective_quad(A,B,perm):\n",
    "    return GM_objective_fnct_conv(A,B,perm)+2*GM_objective_fnct(A,B,perm)\n",
    "\n",
    "#Comparison between two permutations\n",
    "def mismatch_frac(perm1,perm2):\n",
    "    return 0.5*np.sum(np.abs(perm1-perm2))/len(perm1[0,:])\n",
    "\n",
    "#from assignment sequence to permutation matrix\n",
    "def perm_mat(perm):\n",
    "    w = np.empty(len(perm), dtype=int)\n",
    "    w[:] = 1\n",
    "    permu=csr_matrix((w, (perm, np.arange(len(perm)))), shape=(len(perm), len(perm)), dtype=int).A\n",
    "    return permu\n"
   ]
  },
  {
   "cell_type": "code",
   "execution_count": 13,
   "metadata": {},
   "outputs": [
    {
     "name": "stdout",
     "output_type": "stream",
     "text": [
      "2674.7230258142913\n",
      "0.0\n",
      "5349.446051628583\n"
     ]
    }
   ],
   "source": [
    "#example with correlated Wigner Matrices\n",
    "eta=0.2\n",
    "size=50\n",
    "noise_lev=0\n",
    "low_rank=3\n",
    "A,B,true_perm=Corr_Gaussian(size,1,noise_lev)#generate the two matrices\n",
    "#true_perm=np.random.permutation(np.arange(len(B[0,:]))) #generate a ground true permutation\n",
    "#we apply the algorihtms \n",
    "#per1=Grampa(A,B,eta).A\n",
    "#per2=EigenAlign(A,B).A\n",
    "#per3=Umeyama(A,B).A\n",
    "#per4=LowRank(A,B,low_rank).A\n",
    "#per5=IsoRank(A,B,np.zeros((size,size)),1,200,0.01)\n",
    "#true_perm_mat=perm_mat(true_perm)\n",
    "print(GM_objective_fnct(A,B,true_perm))\n",
    "print(GM_objective_fnct_conv(A,B,true_perm))\n",
    "print(GM_objective_quad(A,B,true_perm))\n",
    "\n"
   ]
  },
  {
   "cell_type": "code",
   "execution_count": 14,
   "metadata": {},
   "outputs": [
    {
     "name": "stdout",
     "output_type": "stream",
     "text": [
      "[[0.49793097 0.49790724 0.49788011 0.49783812 0.49787786 0.49785599\n",
      "  0.49790134 0.49787052 0.49786636 0.49793721 0.49789801 0.49793141\n",
      "  0.4978544  0.49790432 0.49788862 0.49789654 0.49784599 0.49792257\n",
      "  0.49790824 0.49786966 0.49785479 0.49788675 0.49795422 0.49785777\n",
      "  0.49784568]\n",
      " [0.49929    0.499286   0.49928705 0.49928814 0.49928768 0.49928767\n",
      "  0.49929381 0.49928344 0.49928777 0.49929102 0.49928937 0.49928657\n",
      "  0.49929247 0.49928511 0.49928513 0.49928038 0.49929022 0.49928445\n",
      "  0.49928606 0.49928422 0.49928852 0.49928592 0.49928506 0.49928444\n",
      "  0.49929223]\n",
      " [0.49957093 0.49957008 0.49957144 0.49957115 0.49957233 0.49956909\n",
      "  0.49957089 0.49956939 0.49957097 0.49957134 0.49957002 0.49957326\n",
      "  0.4995721  0.49956856 0.49957122 0.49957082 0.49957241 0.49957087\n",
      "  0.4995714  0.49957133 0.49957154 0.49957129 0.49957124 0.49956998\n",
      "  0.49956988]\n",
      " [0.49969294 0.49969485 0.49969354 0.49969313 0.4996931  0.49969229\n",
      "  0.49969372 0.49969352 0.49969227 0.49969271 0.49969261 0.49969274\n",
      "  0.49969331 0.49969391 0.4996924  0.49969379 0.49969245 0.49969246\n",
      "  0.49969314 0.49969312 0.49969452 0.49969237 0.49969253 0.4996932\n",
      "  0.49969333]]\n"
     ]
    }
   ],
   "source": [
    "\n",
    "mont=25\n",
    "noise_lev=np.arange(0,1,0.05)\n",
    "l=np.arange(100,800,200)\n",
    "rat=np.zeros((len(l),len(noise_lev),mont))\n",
    "ob1=np.zeros((len(l),len(noise_lev),mont))\n",
    "ob2=np.zeros((len(l),len(noise_lev),mont))\n",
    "#print(l)\n",
    "for i in range(len(l)):\n",
    "    for j in range(len(noise_lev)):\n",
    "        for k in range(mont):\n",
    "            A,B,true_perm=Corr_Gaussian(l[i],1,noise_lev[j])\n",
    "            ob1[i,j,k]=GM_objective_fnct(A,B,true_perm)\n",
    "            ob2[i,j,k]=GM_objective_quad(A,B,true_perm)\n",
    "            rat[i,j,k]=ob1[i,j,k]/ob2[i,j,k]\n",
    "m_rat=np.mean(rat,axis=1)\n",
    "print(m_rat)\n",
    "\n",
    "    \n",
    "    "
   ]
  },
  {
   "cell_type": "code",
   "execution_count": 37,
   "metadata": {},
   "outputs": [
    {
     "ename": "IndexError",
     "evalue": "invalid index to scalar variable.",
     "output_type": "error",
     "traceback": [
      "\u001b[0;31m---------------------------------------------------------------------------\u001b[0m",
      "\u001b[0;31mIndexError\u001b[0m                                Traceback (most recent call last)",
      "\u001b[0;32m/var/folders/tt/n1t5c3dj3x7_ypt12p80wqkm001tr9/T/ipykernel_79229/4216727779.py\u001b[0m in \u001b[0;36m<module>\u001b[0;34m\u001b[0m\n\u001b[0;32m----> 1\u001b[0;31m \u001b[0mprint\u001b[0m\u001b[0;34m(\u001b[0m\u001b[0mob1\u001b[0m\u001b[0;34m[\u001b[0m\u001b[0;34m:\u001b[0m\u001b[0;34m,\u001b[0m\u001b[0;34m:\u001b[0m\u001b[0;34m,\u001b[0m\u001b[0;36m1\u001b[0m\u001b[0;34m]\u001b[0m\u001b[0;34m)\u001b[0m\u001b[0;34m\u001b[0m\u001b[0;34m\u001b[0m\u001b[0m\n\u001b[0m\u001b[1;32m      2\u001b[0m \u001b[0;31m#print(np.mean(rat,axis=0))\u001b[0m\u001b[0;34m\u001b[0m\u001b[0;34m\u001b[0m\u001b[0;34m\u001b[0m\u001b[0m\n\u001b[1;32m      3\u001b[0m \u001b[0;31m#print(np.mean(rat,axis=1))\u001b[0m\u001b[0;34m\u001b[0m\u001b[0;34m\u001b[0m\u001b[0;34m\u001b[0m\u001b[0m\n\u001b[1;32m      4\u001b[0m \u001b[0;31m#print(np.mean(rat,axis=2))\u001b[0m\u001b[0;34m\u001b[0m\u001b[0;34m\u001b[0m\u001b[0;34m\u001b[0m\u001b[0m\n\u001b[1;32m      5\u001b[0m \u001b[0;34m\u001b[0m\u001b[0m\n",
      "\u001b[0;31mIndexError\u001b[0m: invalid index to scalar variable."
     ]
    }
   ],
   "source": [
    "print(ob1[:,:,1])\n",
    "#print(np.mean(rat,axis=0))\n",
    "#print(np.mean(rat,axis=1))\n",
    "#print(np.mean(rat,axis=2))\n",
    "\n"
   ]
  },
  {
   "cell_type": "code",
   "execution_count": 15,
   "metadata": {},
   "outputs": [
    {
     "name": "stdout",
     "output_type": "stream",
     "text": [
      "objective fnct value: \n",
      "Grampa: 897.8981884144506\n",
      "EigenAlign: 32.920688483739674\n",
      "Umeyama: 897.8981884144506\n",
      "LowRank: 897.8981884144506\n",
      "Ground true perm: 897.8981884144506\n"
     ]
    }
   ],
   "source": [
    "#here we print the value of the obj. fnct for the GM problem for all algorithms\n",
    "print('objective fnct value: ', 'Grampa: '+str(GM_objective_fnct(A,B,per1)),\n",
    "      'EigenAlign: '+str(GM_objective_fnct(A,B,per2)),'Umeyama: '+str(GM_objective_fnct(A,B,per3)),\n",
    "      'LowRank: '+str(GM_objective_fnct(A,B,per4)),'Ground true perm: '+str(GM_objective_fnct(A,B,true_perm_mat)),\n",
    "      sep='\\n')\n"
   ]
  },
  {
   "cell_type": "code",
   "execution_count": 87,
   "metadata": {},
   "outputs": [
    {
     "ename": "NameError",
     "evalue": "name 'per1' is not defined",
     "output_type": "error",
     "traceback": [
      "\u001b[0;31m---------------------------------------------------------------------------\u001b[0m",
      "\u001b[0;31mNameError\u001b[0m                                 Traceback (most recent call last)",
      "\u001b[0;32m/var/folders/tt/n1t5c3dj3x7_ypt12p80wqkm001tr9/T/ipykernel_79229/2170329338.py\u001b[0m in \u001b[0;36m<module>\u001b[0;34m\u001b[0m\n\u001b[1;32m      1\u001b[0m \u001b[0;31m#here we print the mismatch fraction for each algorithm\u001b[0m\u001b[0;34m\u001b[0m\u001b[0;34m\u001b[0m\u001b[0;34m\u001b[0m\u001b[0m\n\u001b[0;32m----> 2\u001b[0;31m print('mismatch fraction (compared with the ground true permutation): ','Grampa: '+str(mismatch_frac(per1,true_perm_mat)),\n\u001b[0m\u001b[1;32m      3\u001b[0m       \u001b[0;34m'EigenAlign: '\u001b[0m\u001b[0;34m+\u001b[0m \u001b[0mstr\u001b[0m\u001b[0;34m(\u001b[0m\u001b[0mmismatch_frac\u001b[0m\u001b[0;34m(\u001b[0m\u001b[0mper2\u001b[0m\u001b[0;34m,\u001b[0m\u001b[0mtrue_perm_mat\u001b[0m\u001b[0;34m)\u001b[0m\u001b[0;34m)\u001b[0m\u001b[0;34m,\u001b[0m\u001b[0;34m'Umeyama: '\u001b[0m\u001b[0;34m+\u001b[0m\u001b[0mstr\u001b[0m\u001b[0;34m(\u001b[0m\u001b[0mmismatch_frac\u001b[0m\u001b[0;34m(\u001b[0m\u001b[0mper3\u001b[0m\u001b[0;34m,\u001b[0m\u001b[0mtrue_perm_mat\u001b[0m\u001b[0;34m)\u001b[0m\u001b[0;34m)\u001b[0m\u001b[0;34m,\u001b[0m\u001b[0;34m\u001b[0m\u001b[0;34m\u001b[0m\u001b[0m\n\u001b[1;32m      4\u001b[0m       \u001b[0;34m'LowRank: '\u001b[0m\u001b[0;34m+\u001b[0m\u001b[0mstr\u001b[0m\u001b[0;34m(\u001b[0m\u001b[0mmismatch_frac\u001b[0m\u001b[0;34m(\u001b[0m\u001b[0mper4\u001b[0m\u001b[0;34m,\u001b[0m\u001b[0mtrue_perm_mat\u001b[0m\u001b[0;34m)\u001b[0m\u001b[0;34m)\u001b[0m\u001b[0;34m,\u001b[0m\u001b[0msep\u001b[0m\u001b[0;34m=\u001b[0m\u001b[0;34m'\\n'\u001b[0m\u001b[0;34m\u001b[0m\u001b[0;34m\u001b[0m\u001b[0m\n\u001b[1;32m      5\u001b[0m      )\n",
      "\u001b[0;31mNameError\u001b[0m: name 'per1' is not defined"
     ]
    }
   ],
   "source": [
    "#here we print the mismatch fraction for each algorithm\n",
    "print('mismatch fraction (compared with the ground true permutation): ','Grampa: '+str(mismatch_frac(per1,true_perm_mat)),\n",
    "      'EigenAlign: '+ str(mismatch_frac(per2,true_perm_mat)),'Umeyama: '+str(mismatch_frac(per3,true_perm_mat)),\n",
    "      'LowRank: '+str(mismatch_frac(per4,true_perm_mat)),sep='\\n'\n",
    "     )\n"
   ]
  },
  {
   "cell_type": "code",
   "execution_count": 17,
   "metadata": {},
   "outputs": [],
   "source": [
    "#Example with correlated Wigner, for different levels of noise \n",
    "eta=0.2\n",
    "size=20\n",
    "low_rank=3\n",
    "noise=np.arange(0,1,0.1)# from 0 to 1 steps 0.1\n",
    "repeat=10 #average over repeat number of times\n",
    "match_frac_array=np.zeros((4,len(noise)))\n",
    "for k in range(len(noise)):\n",
    "    m1=0;m2=0;m3=0;m4=0\n",
    "    for t in range(repeat):\n",
    "        A,B=Corr_Gaussian(size,1,noise[k])#generate the two matrices\n",
    "        true_perm=np.random.permutation(np.arange(len(B[0,:]))) #generate a ground true permutation\n",
    "        true_perm_mat=perm_mat(true_perm)\n",
    "        aux=B[:,true_perm] #shuffle rows and columns of matrix B\n",
    "        B=aux[true_perm,:]\n",
    "        #we apply the algorihtms \n",
    "        per1=Grampa(A,B,eta).A; per2=EigenAlign(A,B).A; per3=Umeyama(A,B).A; per4=LowRank(A,B,low_rank).A\n",
    "        m1=m1+(1-mismatch_frac(per1,true_perm_mat)); m2=m2+(1-mismatch_frac(per2,true_perm_mat));\n",
    "        m3=m3+(1-mismatch_frac(per3,true_perm_mat));m4=m4+(1-mismatch_frac(per4,true_perm_mat))\n",
    "    \n",
    "    match_frac_array[:,k]=(1/repeat)*np.array([m1,m2,m3,m4])\n",
    "\n",
    "    \n"
   ]
  },
  {
   "cell_type": "code",
   "execution_count": 18,
   "metadata": {},
   "outputs": [
    {
     "data": {
      "text/plain": [
       "Text(0, 0.5, 'matched fraction')"
      ]
     },
     "execution_count": 18,
     "metadata": {},
     "output_type": "execute_result"
    },
    {
     "data": {
      "image/png": "[encoded data removed]",
      "text/plain": [
       "<Figure size 504x360 with 1 Axes>"
      ]
     },
     "metadata": {
      "needs_background": "light"
     },
     "output_type": "display_data"
    }
   ],
   "source": [
    "#plot the result...\n",
    "plt.figure(figsize=(7,5))\n",
    "plt.plot(noise, match_frac_array.T)\n",
    "plt.legend(['Grampa','EigenAlign','Umeyama','LowRank'])\n",
    "plt.title('Wigner matrices n= '+str(size))\n",
    "plt.xlabel('noise level '+r'$\\sigma$')\n",
    "plt.ylabel('matched fraction')"
   ]
  },
  {
   "cell_type": "code",
   "execution_count": 19,
   "metadata": {},
   "outputs": [],
   "source": [
    "#Example with correlated Erdös-Rényi graphs\n",
    "eta=0.2\n",
    "size=30 #number of nodes of each graph\n",
    "corr_lev=0.95  #the correlation parameter 's' \n",
    "p=0.2 #edge probability in ER graph\n",
    "A,B=Corr_ER(size,p,corr_lev) #generate the two adj. matrices\n",
    "#print(A,B)\n",
    "true_perm=np.random.permutation(np.arange(len(B[0,:]))) #generate a ground true permutation\n",
    "aux=B[:,true_perm] #shuffle rows and columns of matrix B\n",
    "B=aux[true_perm,:]\n",
    "#we apply the algorihtms \n",
    "per1=Grampa(A,B,eta).A\n",
    "per2=EigenAlign(A,B).A\n",
    "per3=Umeyama(A,B).A\n",
    "per4=LowRank(A,B,3).A\n",
    "#per5=IsoRank(A,B,np.zeros((size,size)),1,200,0.01)\n",
    "true_perm_mat=perm_mat(true_perm)"
   ]
  },
  {
   "cell_type": "code",
   "execution_count": 22,
   "metadata": {},
   "outputs": [
    {
     "name": "stdout",
     "output_type": "stream",
     "text": [
      "objective fnct value: \n",
      "Grampa: 103\n",
      "EigenAlign: 59\n",
      "Umeyama: 124\n",
      "LowRank: 60\n",
      "Ground true perm: 186\n",
      "-------------------------------------------------------------\n",
      "mismatch fraction (compared with the ground true permutation): \n",
      "Grampa: 0.3333333333333333\n",
      "EigenAlign: 0.8333333333333334\n",
      "Umeyama: 0.26666666666666666\n",
      "LowRank: 0.8333333333333334\n"
     ]
    }
   ],
   "source": [
    "#print some results\n",
    "\n",
    "print('objective fnct value: ', 'Grampa: '+str(GM_objective_fnct(A,B,per1)),\n",
    "      'EigenAlign: '+str(GM_objective_fnct(A,B,per2)),'Umeyama: '+str(GM_objective_fnct(A,B,per3)),\n",
    "      'LowRank: '+str(GM_objective_fnct(A,B,per4)),'Ground true perm: '+str(GM_objective_fnct(A,B,true_perm_mat)),\n",
    "      sep='\\n')\n",
    "print('-------------------------------------------------------------')\n",
    "print('mismatch fraction (compared with the ground true permutation): ','Grampa: '+str(mismatch_frac(per1,true_perm_mat)),\n",
    "      'EigenAlign: '+ str(mismatch_frac(per2,true_perm_mat)),'Umeyama: '+str(mismatch_frac(per3,true_perm_mat)),\n",
    "      'LowRank: '+str(mismatch_frac(per4,true_perm_mat)),sep='\\n'\n",
    "     )"
   ]
  },
  {
   "cell_type": "code",
   "execution_count": 24,
   "metadata": {},
   "outputs": [],
   "source": [
    "import trustregion"
   ]
  },
  {
   "cell_type": "code",
   "execution_count": 23,
   "metadata": {},
   "outputs": [
    {
     "ename": "NetworkXError",
     "evalue": "random_state_index is incorrect",
     "output_type": "error",
     "traceback": [
      "\u001b[0;31m---------------------------------------------------------------------------\u001b[0m",
      "\u001b[0;31mIndexError\u001b[0m                                Traceback (most recent call last)",
      "\u001b[0;32m~/anaconda3/lib/python3.7/site-packages/networkx/utils/decorators.py\u001b[0m in \u001b[0;36m_random_state\u001b[0;34m(func, *args, **kwargs)\u001b[0m\n\u001b[1;32m    395\u001b[0m         \u001b[0;32mtry\u001b[0m\u001b[0;34m:\u001b[0m\u001b[0;34m\u001b[0m\u001b[0;34m\u001b[0m\u001b[0m\n\u001b[0;32m--> 396\u001b[0;31m             \u001b[0mrandom_state_arg\u001b[0m \u001b[0;34m=\u001b[0m \u001b[0margs\u001b[0m\u001b[0;34m[\u001b[0m\u001b[0mrandom_state_index\u001b[0m\u001b[0;34m]\u001b[0m\u001b[0;34m\u001b[0m\u001b[0;34m\u001b[0m\u001b[0m\n\u001b[0m\u001b[1;32m    397\u001b[0m         \u001b[0;32mexcept\u001b[0m \u001b[0mTypeError\u001b[0m \u001b[0;32mas\u001b[0m \u001b[0me\u001b[0m\u001b[0;34m:\u001b[0m\u001b[0;34m\u001b[0m\u001b[0;34m\u001b[0m\u001b[0m\n",
      "\u001b[0;31mIndexError\u001b[0m: tuple index out of range",
      "\nThe above exception was the direct cause of the following exception:\n",
      "\u001b[0;31mNetworkXError\u001b[0m                             Traceback (most recent call last)",
      "\u001b[0;32m<ipython-input-23-f7fe12a897fa>\u001b[0m in \u001b[0;36m<module>\u001b[0;34m\u001b[0m\n\u001b[1;32m      1\u001b[0m \u001b[0mgraph_B\u001b[0m\u001b[0;34m=\u001b[0m\u001b[0mnx\u001b[0m\u001b[0;34m.\u001b[0m\u001b[0mfrom_numpy_matrix\u001b[0m\u001b[0;34m(\u001b[0m\u001b[0mB\u001b[0m\u001b[0;34m)\u001b[0m\u001b[0;34m\u001b[0m\u001b[0;34m\u001b[0m\u001b[0m\n\u001b[0;32m----> 2\u001b[0;31m \u001b[0mnx\u001b[0m\u001b[0;34m.\u001b[0m\u001b[0mdraw\u001b[0m\u001b[0;34m(\u001b[0m\u001b[0mgraph_B\u001b[0m\u001b[0;34m)\u001b[0m\u001b[0;34m\u001b[0m\u001b[0;34m\u001b[0m\u001b[0m\n\u001b[0m",
      "\u001b[0;32m~/anaconda3/lib/python3.7/site-packages/networkx/drawing/nx_pylab.py\u001b[0m in \u001b[0;36mdraw\u001b[0;34m(G, pos, ax, **kwds)\u001b[0m\n\u001b[1;32m    121\u001b[0m         \u001b[0mkwds\u001b[0m\u001b[0;34m[\u001b[0m\u001b[0;34m\"with_labels\"\u001b[0m\u001b[0;34m]\u001b[0m \u001b[0;34m=\u001b[0m \u001b[0;34m\"labels\"\u001b[0m \u001b[0;32min\u001b[0m \u001b[0mkwds\u001b[0m\u001b[0;34m\u001b[0m\u001b[0;34m\u001b[0m\u001b[0m\n\u001b[1;32m    122\u001b[0m \u001b[0;34m\u001b[0m\u001b[0m\n\u001b[0;32m--> 123\u001b[0;31m     \u001b[0mdraw_networkx\u001b[0m\u001b[0;34m(\u001b[0m\u001b[0mG\u001b[0m\u001b[0;34m,\u001b[0m \u001b[0mpos\u001b[0m\u001b[0;34m=\u001b[0m\u001b[0mpos\u001b[0m\u001b[0;34m,\u001b[0m \u001b[0max\u001b[0m\u001b[0;34m=\u001b[0m\u001b[0max\u001b[0m\u001b[0;34m,\u001b[0m \u001b[0;34m**\u001b[0m\u001b[0mkwds\u001b[0m\u001b[0;34m)\u001b[0m\u001b[0;34m\u001b[0m\u001b[0;34m\u001b[0m\u001b[0m\n\u001b[0m\u001b[1;32m    124\u001b[0m     \u001b[0max\u001b[0m\u001b[0;34m.\u001b[0m\u001b[0mset_axis_off\u001b[0m\u001b[0;34m(\u001b[0m\u001b[0;34m)\u001b[0m\u001b[0;34m\u001b[0m\u001b[0;34m\u001b[0m\u001b[0m\n\u001b[1;32m    125\u001b[0m     \u001b[0mplt\u001b[0m\u001b[0;34m.\u001b[0m\u001b[0mdraw_if_interactive\u001b[0m\u001b[0;34m(\u001b[0m\u001b[0;34m)\u001b[0m\u001b[0;34m\u001b[0m\u001b[0;34m\u001b[0m\u001b[0m\n",
      "\u001b[0;32m~/anaconda3/lib/python3.7/site-packages/networkx/drawing/nx_pylab.py\u001b[0m in \u001b[0;36mdraw_networkx\u001b[0;34m(G, pos, arrows, with_labels, **kwds)\u001b[0m\n\u001b[1;32m    331\u001b[0m \u001b[0;34m\u001b[0m\u001b[0m\n\u001b[1;32m    332\u001b[0m     \u001b[0;32mif\u001b[0m \u001b[0mpos\u001b[0m \u001b[0;32mis\u001b[0m \u001b[0;32mNone\u001b[0m\u001b[0;34m:\u001b[0m\u001b[0;34m\u001b[0m\u001b[0;34m\u001b[0m\u001b[0m\n\u001b[0;32m--> 333\u001b[0;31m         \u001b[0mpos\u001b[0m \u001b[0;34m=\u001b[0m \u001b[0mnx\u001b[0m\u001b[0;34m.\u001b[0m\u001b[0mdrawing\u001b[0m\u001b[0;34m.\u001b[0m\u001b[0mspring_layout\u001b[0m\u001b[0;34m(\u001b[0m\u001b[0mG\u001b[0m\u001b[0;34m)\u001b[0m  \u001b[0;31m# default to spring layout\u001b[0m\u001b[0;34m\u001b[0m\u001b[0;34m\u001b[0m\u001b[0m\n\u001b[0m\u001b[1;32m    334\u001b[0m \u001b[0;34m\u001b[0m\u001b[0m\n\u001b[1;32m    335\u001b[0m     \u001b[0mdraw_networkx_nodes\u001b[0m\u001b[0;34m(\u001b[0m\u001b[0mG\u001b[0m\u001b[0;34m,\u001b[0m \u001b[0mpos\u001b[0m\u001b[0;34m,\u001b[0m \u001b[0;34m**\u001b[0m\u001b[0mnode_kwds\u001b[0m\u001b[0;34m)\u001b[0m\u001b[0;34m\u001b[0m\u001b[0;34m\u001b[0m\u001b[0m\n",
      "\u001b[0;32m~/anaconda3/lib/python3.7/site-packages/decorator.py\u001b[0m in \u001b[0;36mfun\u001b[0;34m(*args, **kw)\u001b[0m\n\u001b[1;32m    229\u001b[0m             \u001b[0;32mif\u001b[0m \u001b[0;32mnot\u001b[0m \u001b[0mkwsyntax\u001b[0m\u001b[0;34m:\u001b[0m\u001b[0;34m\u001b[0m\u001b[0;34m\u001b[0m\u001b[0m\n\u001b[1;32m    230\u001b[0m                 \u001b[0margs\u001b[0m\u001b[0;34m,\u001b[0m \u001b[0mkw\u001b[0m \u001b[0;34m=\u001b[0m \u001b[0mfix\u001b[0m\u001b[0;34m(\u001b[0m\u001b[0margs\u001b[0m\u001b[0;34m,\u001b[0m \u001b[0mkw\u001b[0m\u001b[0;34m,\u001b[0m \u001b[0msig\u001b[0m\u001b[0;34m)\u001b[0m\u001b[0;34m\u001b[0m\u001b[0;34m\u001b[0m\u001b[0m\n\u001b[0;32m--> 231\u001b[0;31m             \u001b[0;32mreturn\u001b[0m \u001b[0mcaller\u001b[0m\u001b[0;34m(\u001b[0m\u001b[0mfunc\u001b[0m\u001b[0;34m,\u001b[0m \u001b[0;34m*\u001b[0m\u001b[0;34m(\u001b[0m\u001b[0mextras\u001b[0m \u001b[0;34m+\u001b[0m \u001b[0margs\u001b[0m\u001b[0;34m)\u001b[0m\u001b[0;34m,\u001b[0m \u001b[0;34m**\u001b[0m\u001b[0mkw\u001b[0m\u001b[0;34m)\u001b[0m\u001b[0;34m\u001b[0m\u001b[0;34m\u001b[0m\u001b[0m\n\u001b[0m\u001b[1;32m    232\u001b[0m     \u001b[0mfun\u001b[0m\u001b[0;34m.\u001b[0m\u001b[0m__name__\u001b[0m \u001b[0;34m=\u001b[0m \u001b[0mfunc\u001b[0m\u001b[0;34m.\u001b[0m\u001b[0m__name__\u001b[0m\u001b[0;34m\u001b[0m\u001b[0;34m\u001b[0m\u001b[0m\n\u001b[1;32m    233\u001b[0m     \u001b[0mfun\u001b[0m\u001b[0;34m.\u001b[0m\u001b[0m__doc__\u001b[0m \u001b[0;34m=\u001b[0m \u001b[0mfunc\u001b[0m\u001b[0;34m.\u001b[0m\u001b[0m__doc__\u001b[0m\u001b[0;34m\u001b[0m\u001b[0;34m\u001b[0m\u001b[0m\n",
      "\u001b[0;32m~/anaconda3/lib/python3.7/site-packages/networkx/utils/decorators.py\u001b[0m in \u001b[0;36m_random_state\u001b[0;34m(func, *args, **kwargs)\u001b[0m\n\u001b[1;32m    398\u001b[0m             \u001b[0;32mraise\u001b[0m \u001b[0mnx\u001b[0m\u001b[0;34m.\u001b[0m\u001b[0mNetworkXError\u001b[0m\u001b[0;34m(\u001b[0m\u001b[0;34m\"random_state_index must be an integer\"\u001b[0m\u001b[0;34m)\u001b[0m \u001b[0;32mfrom\u001b[0m \u001b[0me\u001b[0m\u001b[0;34m\u001b[0m\u001b[0;34m\u001b[0m\u001b[0m\n\u001b[1;32m    399\u001b[0m         \u001b[0;32mexcept\u001b[0m \u001b[0mIndexError\u001b[0m \u001b[0;32mas\u001b[0m \u001b[0me\u001b[0m\u001b[0;34m:\u001b[0m\u001b[0;34m\u001b[0m\u001b[0;34m\u001b[0m\u001b[0m\n\u001b[0;32m--> 400\u001b[0;31m             \u001b[0;32mraise\u001b[0m \u001b[0mnx\u001b[0m\u001b[0;34m.\u001b[0m\u001b[0mNetworkXError\u001b[0m\u001b[0;34m(\u001b[0m\u001b[0;34m\"random_state_index is incorrect\"\u001b[0m\u001b[0;34m)\u001b[0m \u001b[0;32mfrom\u001b[0m \u001b[0me\u001b[0m\u001b[0;34m\u001b[0m\u001b[0;34m\u001b[0m\u001b[0m\n\u001b[0m\u001b[1;32m    401\u001b[0m \u001b[0;34m\u001b[0m\u001b[0m\n\u001b[1;32m    402\u001b[0m         \u001b[0;31m# Create a numpy.random.RandomState instance\u001b[0m\u001b[0;34m\u001b[0m\u001b[0;34m\u001b[0m\u001b[0;34m\u001b[0m\u001b[0m\n",
      "\u001b[0;31mNetworkXError\u001b[0m: random_state_index is incorrect"
     ]
    },
    {
     "data": {
      "image/png": "[encoded data removed]",
      "text/plain": [
       "<Figure size 432x288 with 1 Axes>"
      ]
     },
     "metadata": {},
     "output_type": "display_data"
    }
   ],
   "source": []
  },
  {
   "cell_type": "code",
   "execution_count": 85,
   "metadata": {},
   "outputs": [],
   "source": [
    "#sample corr_RGG\n",
    "n=1000\n",
    "sigma=0.1\n",
    "d=3\n",
    "tau=1\n",
    "DA,DB,GA,GB,P_rnd=Corr_RGG(n,d,tau,sigma)"
   ]
  },
  {
   "cell_type": "code",
   "execution_count": 86,
   "metadata": {},
   "outputs": [
    {
     "data": {
      "text/plain": [
       "0.982"
      ]
     },
     "execution_count": 86,
     "metadata": {},
     "output_type": "execute_result"
    }
   ],
   "source": [
    "per3=Umeyama(GA,GB).A\n",
    "mismatch_frac(per3,P_rnd)\n"
   ]
  },
  {
   "cell_type": "code",
   "execution_count": 15,
   "metadata": {},
   "outputs": [],
   "source": [
    "import projection_simplex\n",
    "from projection_simplex import projection_simplex_bisection, projection_simplex_sort, projection_simplex_pivot\n",
    "\n",
    "def simplex_GD(A,B,in_point,gamma,maxiter=100):\n",
    "    n=np.shape(A)[1]\n",
    "    A2=np.matmul(A,A)#A@A\n",
    "    B2=np.matmul(B,B)#B@B\n",
    "    X=np.copy(in_point.T)\n",
    "    X=np.reshape(X,n**2,order='F')\n",
    "    X=projection_simplex_sort(X)\n",
    "    X=np.reshape(X,(n,n),order='F')\n",
    "    for i in range(maxiter):\n",
    "        grad=-2*np.matmul(np.matmul(A,X),B)+np.matmul(A2,X)+np.matmul(X,B2)+0.2*LA.norm(X,'fro')\n",
    "        X=X-gamma*grad\n",
    "        X=np.reshape(X,n**2,order='F')\n",
    "        #print(np.shape(X))\n",
    "        X=projection_simplex_sort(X,n)\n",
    "        #print(np.shape(X))\n",
    "        X=np.reshape(X,(n,n),order='F')\n",
    "    Per_mat=lin_assign(X)\n",
    "    return Per_mat\n",
    "    \n",
    "\n",
    "    "
   ]
  },
  {
   "cell_type": "code",
   "execution_count": 196,
   "metadata": {},
   "outputs": [
    {
     "name": "stdout",
     "output_type": "stream",
     "text": [
      "105.29852422400991\n",
      "0.0\n",
      "210.59704844801982\n"
     ]
    }
   ],
   "source": [
    "eta=0.2\n",
    "size=100\n",
    "noise_lev=0\n",
    "low_rank=3\n",
    "A,B,true_perm=Corr_Gaussian(size,1/size,noise_lev)#generate the two matrices\n",
    "#true_perm=np.random.permutation(np.arange(len(B[0,:]))) #generate a ground true permutation\n",
    "#we apply the algorihtms \n",
    "#per1=Grampa(A,B,eta).A\n",
    "#per2=EigenAlign(A,B).A\n",
    "#per3=Umeyama(A,B).A\n",
    "#per4=LowRank(A,B,low_rank).A\n",
    "#per5=IsoRank(A,B,np.zeros((size,size)),1,200,0.01)\n",
    "#true_perm_mat=perm_mat(true_perm)\n",
    "print(GM_objective_fnct(A,B,true_perm))\n",
    "print(GM_objective_fnct_conv(A,B,true_perm))\n",
    "print(GM_objective_quad(A,B,true_perm))\n"
   ]
  },
  {
   "cell_type": "code",
   "execution_count": 197,
   "metadata": {},
   "outputs": [],
   "source": [
    "n=np.shape(A)[1]\n",
    "#gam=(1/(np.log(500)*1.5))\n",
    "gam=0.1\n",
    "per_simplex=simplex_GD(A,B,(1/n)*np.ones((n,n)),gam,100)\n",
    "per_grampa=Grampa(A,B,0.2)\n",
    "\n"
   ]
  },
  {
   "cell_type": "code",
   "execution_count": 198,
   "metadata": {},
   "outputs": [
    {
     "name": "stdout",
     "output_type": "stream",
     "text": [
      "0.0\n",
      "0.0\n"
     ]
    }
   ],
   "source": [
    "print(mismatch_frac(per_simplex.A,true_perm))\n",
    "print(mismatch_frac(per_grampa.A,true_perm))\n"
   ]
  },
  {
   "cell_type": "code",
   "execution_count": 152,
   "metadata": {},
   "outputs": [
    {
     "name": "stdout",
     "output_type": "stream",
     "text": [
      "[[-0.17386312  0.7402035  -0.36615653 -0.0523759  -0.41299474 -0.57468987\n",
      "   0.59551732 -1.99385476  0.60983418 -1.0551458 ]\n",
      " [-0.54966269 -0.79406398 -1.7721922  -0.31482704 -0.56107251  0.10639902\n",
      "   0.58330959  0.65807441  1.02666744  1.14934754]\n",
      " [-1.29787684  0.12229536 -1.88562042  0.44927547 -0.71636758 -0.76201369\n",
      "   1.10308085 -1.32107402 -0.45072559 -2.09718169]\n",
      " [-0.18036807 -1.3828221  -1.0507617   1.21357591  0.46207051 -0.40251721\n",
      "   0.69825618 -0.1292856   0.17959006 -0.93861011]\n",
      " [-1.0577081  -0.56142432  1.52741094 -0.13929397  1.75242902 -0.31832414\n",
      "   0.5200161  -0.19420304 -1.82059584 -1.13003636]\n",
      " [-0.03304689 -1.46172295 -1.00090233 -1.44079746 -0.89833105  0.01334692\n",
      "  -0.99781044 -1.15403448 -0.03663265  0.36162625]\n",
      " [ 0.14230583  0.56948492  0.75408427 -1.86792148  1.07234041  1.27260807\n",
      "   1.49150884  0.50182459 -0.15650412  0.42019485]\n",
      " [-0.06495086  1.05255432  0.93804156  0.06072558 -1.4172199   0.72185201\n",
      "   0.44224824 -0.18872134  1.76435772 -0.74242514]\n",
      " [-0.54244489  0.14371333 -0.17175055 -0.0373422  -1.65302441  0.35486868\n",
      "  -0.29523292 -0.33015124 -0.24821569 -0.01089752]\n",
      " [-0.79944371  0.65199648  0.16679501  1.14508972  0.85810196  0.9494256\n",
      "  -0.30394662 -0.20233246  0.44084477 -1.32301745]]\n",
      "[-0.17386312 -0.54966269 -1.29787684 -0.18036807 -1.0577081  -0.03304689\n",
      "  0.14230583 -0.06495086 -0.54244489 -0.79944371  0.7402035  -0.79406398\n",
      "  0.12229536 -1.3828221  -0.56142432 -1.46172295  0.56948492  1.05255432\n",
      "  0.14371333  0.65199648 -0.36615653 -1.7721922  -1.88562042 -1.0507617\n",
      "  1.52741094 -1.00090233  0.75408427  0.93804156 -0.17175055  0.16679501\n",
      " -0.0523759  -0.31482704  0.44927547  1.21357591 -0.13929397 -1.44079746\n",
      " -1.86792148  0.06072558 -0.0373422   1.14508972 -0.41299474 -0.56107251\n",
      " -0.71636758  0.46207051  1.75242902 -0.89833105  1.07234041 -1.4172199\n",
      " -1.65302441  0.85810196 -0.57468987  0.10639902 -0.76201369 -0.40251721\n",
      " -0.31832414  0.01334692  1.27260807  0.72185201  0.35486868  0.9494256\n",
      "  0.59551732  0.58330959  1.10308085  0.69825618  0.5200161  -0.99781044\n",
      "  1.49150884  0.44224824 -0.29523292 -0.30394662 -1.99385476  0.65807441\n",
      " -1.32107402 -0.1292856  -0.19420304 -1.15403448  0.50182459 -0.18872134\n",
      " -0.33015124 -0.20233246  0.60983418  1.02666744 -0.45072559  0.17959006\n",
      " -1.82059584 -0.03663265 -0.15650412  1.76435772 -0.24821569  0.44084477\n",
      " -1.0551458   1.14934754 -2.09718169 -0.93861011 -1.13003636  0.36162625\n",
      "  0.42019485 -0.74242514 -0.01089752 -1.32301745]\n",
      "[[-0.17386312  0.7402035  -0.36615653 -0.0523759  -0.41299474 -0.57468987\n",
      "   0.59551732 -1.99385476  0.60983418 -1.0551458 ]\n",
      " [-0.54966269 -0.79406398 -1.7721922  -0.31482704 -0.56107251  0.10639902\n",
      "   0.58330959  0.65807441  1.02666744  1.14934754]\n",
      " [-1.29787684  0.12229536 -1.88562042  0.44927547 -0.71636758 -0.76201369\n",
      "   1.10308085 -1.32107402 -0.45072559 -2.09718169]\n",
      " [-0.18036807 -1.3828221  -1.0507617   1.21357591  0.46207051 -0.40251721\n",
      "   0.69825618 -0.1292856   0.17959006 -0.93861011]\n",
      " [-1.0577081  -0.56142432  1.52741094 -0.13929397  1.75242902 -0.31832414\n",
      "   0.5200161  -0.19420304 -1.82059584 -1.13003636]\n",
      " [-0.03304689 -1.46172295 -1.00090233 -1.44079746 -0.89833105  0.01334692\n",
      "  -0.99781044 -1.15403448 -0.03663265  0.36162625]\n",
      " [ 0.14230583  0.56948492  0.75408427 -1.86792148  1.07234041  1.27260807\n",
      "   1.49150884  0.50182459 -0.15650412  0.42019485]\n",
      " [-0.06495086  1.05255432  0.93804156  0.06072558 -1.4172199   0.72185201\n",
      "   0.44224824 -0.18872134  1.76435772 -0.74242514]\n",
      " [-0.54244489  0.14371333 -0.17175055 -0.0373422  -1.65302441  0.35486868\n",
      "  -0.29523292 -0.33015124 -0.24821569 -0.01089752]\n",
      " [-0.79944371  0.65199648  0.16679501  1.14508972  0.85810196  0.9494256\n",
      "  -0.30394662 -0.20233246  0.44084477 -1.32301745]]\n",
      "[0.         0.         0.         0.         0.         0.\n",
      " 0.         0.         0.         0.         0.         0.\n",
      " 0.         0.         0.         0.         0.         0.\n",
      " 0.         0.         0.         0.         0.         0.\n",
      " 0.         0.         0.         0.         0.         0.\n",
      " 0.         0.         0.         0.         0.         0.\n",
      " 0.         0.         0.         0.         0.         0.\n",
      " 0.14348431 0.         0.36850238 0.         0.         0.\n",
      " 0.         0.         0.         0.         0.         0.\n",
      " 0.         0.         0.         0.         0.         0.\n",
      " 0.         0.         0.         0.         0.         0.\n",
      " 0.10758221 0.         0.         0.         0.         0.\n",
      " 0.         0.         0.         0.         0.         0.\n",
      " 0.38043109 0.         0.         0.         0.         0.\n",
      " 0.         0.         0.         0.         0.         0.\n",
      " 0.         0.         0.         0.         0.         0.\n",
      " 0.         0.         0.         0.        ]\n",
      "[[0.         0.         0.         0.         0.         0.\n",
      "  0.         0.         0.         0.        ]\n",
      " [0.         0.         0.         0.         0.         0.\n",
      "  0.         0.         0.         0.        ]\n",
      " [0.         0.         0.         0.         0.         0.\n",
      "  0.         0.         0.         0.        ]\n",
      " [0.         0.         0.         0.         0.         0.\n",
      "  0.         0.         0.         0.        ]\n",
      " [0.         0.         0.14348431 0.         0.36850238 0.\n",
      "  0.         0.         0.         0.        ]\n",
      " [0.         0.         0.         0.         0.         0.\n",
      "  0.         0.         0.         0.        ]\n",
      " [0.         0.         0.         0.         0.         0.\n",
      "  0.10758221 0.         0.         0.        ]\n",
      " [0.         0.         0.         0.         0.         0.\n",
      "  0.         0.         0.38043109 0.        ]\n",
      " [0.         0.         0.         0.         0.         0.\n",
      "  0.         0.         0.         0.        ]\n",
      " [0.         0.         0.         0.         0.         0.\n",
      "  0.         0.         0.         0.        ]]\n"
     ]
    }
   ],
   "source": [
    "OO=np.random.standard_normal((10,10))\n",
    "print(OO)\n",
    "OO=np.reshape(OO,100, order='F')\n",
    "print(OO)\n",
    "OO=np.reshape(OO,(10,10),order='F')\n",
    "print(OO)\n",
    "OO=projection_simplex_pivot(np.reshape(OO,100))\n",
    "print(OO)\n",
    "OO=np.reshape(OO,(10,10))\n",
    "print(OO)\n",
    "\n"
   ]
  },
  {
   "cell_type": "code",
   "execution_count": 99,
   "metadata": {},
   "outputs": [],
   "source": [
    "import random\n",
    "#PPM projected power method for the nonconvexfunction\n",
    "def projected_power_method(A,B,init_point,maxiter=100):\n",
    "    actual_point=init_point\n",
    "    for i in range(maxiter):\n",
    "        grad=(A@actual_point)@B\n",
    "        actual_point=greedy_weighted_matching(grad,-2000)\n",
    "    return actual_point\n",
    "def greedy_weighted_matching(simil_matrix,thresh_param):\n",
    "    n=np.shape(simil_matrix)[1]\n",
    "    #shape=np.shape(simil_matrix)\n",
    "    matching=np.zeros((n,n)) #initialize the permutation matrix \n",
    "    for i in range(n):\n",
    "        ii=np.unravel_index(simil_matrix.argmax(),(n,n))\n",
    "        matching[ii[0],ii[1]]=1\n",
    "        simil_matrix[ii[0],:]=thresh_param*np.ones(n)\n",
    "        simil_matrix[:,ii[1]]=thresh_param*np.ones(n)\n",
    "        #simil_matrix[ii[0],:]=thresh_param*np.ones((1,n))\n",
    "        #simil_matrix[:,ii[1]]=thresh_param*np.ones((n,1))\n",
    "    return matching\n",
    "def rnd_permutation_inNeighborhood(size,neigh_radius, reference_permutation): #creates a permutation in a Frobenius neighborhood (defined by neigh_radius) of reference_permutation\n",
    "    permu=np.copy(reference_permutation)\n",
    "    sampled_indices=random.sample(list(range(size)),k=neigh_radius)\n",
    "    shuf_sampled_indices=np.array(sampled_indices)[np.array(list(random_derangement(neigh_radius)))]\n",
    "    permu[:,np.array(shuf_sampled_indices)]=permu[:,sampled_indices]\n",
    "    return permu\n",
    "#generate random derangements, code was taken from https://stackoverflow.com/questions/25200220/generate-a-random-derangement-of-a-list, user georg\n",
    "def random_derangement(n):\n",
    "    while True:\n",
    "        v = [i for i in range(n)]\n",
    "        for j in range(n - 1, -1, -1):\n",
    "            p = random.randint(0, j)\n",
    "            if v[p] == j:\n",
    "                break\n",
    "            else:\n",
    "                v[j], v[p] = v[p], v[j]\n",
    "        else:\n",
    "            if v[0] != 0:\n",
    "                return tuple(v)\n",
    "\n",
    "\n"
   ]
  },
  {
   "cell_type": "code",
   "execution_count": 100,
   "metadata": {},
   "outputs": [
    {
     "name": "stdout",
     "output_type": "stream",
     "text": [
      "0.0\n"
     ]
    }
   ],
   "source": [
    "n=np.shape(A)[1]\n",
    "initial_point= rnd_permutation_inNeighborhood(n,int(np.floor(n/5)),true_perm) #define init point\n",
    "per_ppm=projected_power_method(A,B,initial_point,100)\n",
    "print(mismatch_frac(per_ppm,true_perm))\n"
   ]
  },
  {
   "cell_type": "code",
   "execution_count": 11,
   "metadata": {},
   "outputs": [
    {
     "data": {
      "text/plain": [
       "False"
      ]
     },
     "execution_count": 11,
     "metadata": {},
     "output_type": "execute_result"
    }
   ],
   "source": [
    "A,B,true_perm=Corr_Gaussian(10,1/10,0.1)\n",
    "np.shape(A)==np.shape(np.eye(5))"
   ]
  }
 ],
 "metadata": {
  "kernelspec": {
   "display_name": "Python 3",
   "language": "python",
   "name": "python3"
  },
  "language_info": {
   "codemirror_mode": {
    "name": "ipython",
    "version": 3
   },
   "file_extension": ".py",
   "mimetype": "text/x-python",
   "name": "python",
   "nbconvert_exporter": "python",
   "pygments_lexer": "ipython3",
   "version": "3.8.13"
  }
 },
 "nbformat": 4,
 "nbformat_minor": 4
}
